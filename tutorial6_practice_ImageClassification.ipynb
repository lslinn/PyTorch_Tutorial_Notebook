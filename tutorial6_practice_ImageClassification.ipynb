{
  "nbformat": 4,
  "nbformat_minor": 0,
  "metadata": {
    "colab": {
      "provenance": []
    },
    "kernelspec": {
      "name": "python3",
      "display_name": "Python 3"
    },
    "language_info": {
      "name": "python"
    }
  },
  "cells": [
    {
      "cell_type": "markdown",
      "source": [
        "In this tutorial, we will integrate what we’ve learned by building a basic image classification model. Our task will be to classify handwritten digits using the famous MNIST dataset.\n",
        "\n",
        " * Note: We will also explore how to utilize a GPU to accelerate training.\n",
        "\n",
        " *Reference video: https://www.youtube.com/watch?v=oPhxf2fXHkQ&list=PLqnslRFeH2UrcDBWF5mfPGpqQDSta6VK4&index=14*"
      ],
      "metadata": {
        "id": "7SE6TaLUDa_w"
      }
    },
    {
      "cell_type": "code",
      "execution_count": null,
      "metadata": {
        "id": "GU0F9gI7_Tuw",
        "colab": {
          "base_uri": "https://localhost:8080/",
          "height": 100
        },
        "outputId": "06afce32-fe38-40d5-a6b9-fe469abe947e"
      },
      "outputs": [
        {
          "output_type": "stream",
          "name": "stdout",
          "text": [
            "torch.Size([100, 1, 28, 28]) torch.Size([100])\n"
          ]
        },
        {
          "output_type": "execute_result",
          "data": {
            "text/plain": [
              "'\\nreturn torch.Size([100, 1, 28, 28]) torch.Size([100]) \\n\\ntorch.Size([100, 1, 28, 28]) -> 100 for the asked batch size, 1 for black and white channel (no color channel)\\nthe last two 28x28 are the pixel array. \\n\\nthe torch.Size([100]) are the label of data. Each data in the batch has a label (number 0 - 9),\\nso here we have 100 return label corresponding to the 100 data in the batch\\n'"
            ],
            "application/vnd.google.colaboratory.intrinsic+json": {
              "type": "string"
            }
          },
          "metadata": {},
          "execution_count": 6
        }
      ],
      "source": [
        "import torch\n",
        "import torch.nn as nn\n",
        "import torchvision # for the MNIST dataset, images of hand-written digits\n",
        "import torchvision.transforms as transforms # for organizing the MNIST dataset\n",
        "import matplotlib.pyplot as plt\n",
        "\n",
        "# device config, use GPU if there is one, else CPU\n",
        "device = torch.device('cuda' if torch.cuda.is_available() else 'cpu')\n",
        "\n",
        "# hyper parameters\n",
        "input_size = 784 # 28x28 -> the image dataset we will use containing images with 28*28 pixels\n",
        "hidden_size = 100\n",
        "num_classes = 10 # the output size, there are 10 possible output from 0 - 9\n",
        "num_epochs = 2\n",
        "batch_size = 100\n",
        "learning_rate = 0.001\n",
        "\"\"\"\n",
        "- Epoch:        An epoch refers to one complete pass through the entire training dataset.\n",
        "                In each epoch, the model sees all the training examples once.\n",
        "\n",
        "- Batch:        Instead of passing the entire dataset to the model at once, we divide it into smaller subsets called batches.\n",
        "\n",
        "- Iteration:    An iteration refers to a single update of the model’s parameters.\n",
        "                In one iteration, the model processes one batch of data.\n",
        "\n",
        "--> If we have 1000 images and a batch size of 100, we’ll have 10 batches in each epoch, hence 10 iterations in each epoch\n",
        "\n",
        "Reference of the relations between epochs, batches, and iterations: https://www.youtube.com/watch?v=K20lVDVjPn4\n",
        "\"\"\"\n",
        "\n",
        "#### Loading MNIST (from PyTorch library)\n",
        "train_dataset = torchvision.datasets.MNIST(root='./data', train=True,\n",
        "                                           transform=transforms.ToTensor(), download=True) # download=True for the first time to download this dataset\n",
        "\n",
        "test_dataset = torchvision.datasets.MNIST(root='./data', train=False,\n",
        "                                          transform=transforms.ToTensor())\n",
        "\n",
        "train_loader = torch.utils.data.DataLoader(dataset=train_dataset,\n",
        "                                           batch_size=batch_size, shuffle=True)\n",
        "\n",
        "test_loader = torch.utils.data.DataLoader(dataset=train_dataset,\n",
        "                                           batch_size=batch_size, shuffle=False)\n",
        "\"\"\"\n",
        "PyTorch provides built-in `DataLoader` and `transforms` to efficiently organize and process large datasets in common formats.\n",
        "While these tools are not strictly necessary, they are no doubt convenient when working with pre-existing datasets, as they\n",
        "handle batching, shuffling, and data transformations easily.\n",
        "\n",
        "However, we won’t focus on these packages in this tutorial, as they are more relevant for tasks involving pre-existing datasets,\n",
        "such as image classification. For tasks like Reinforcement Learning or functional optimization problems, which we are focusing on,\n",
        "most data are generated dynamically during training. In such cases, the `DataLoader` and `transforms` functionalities are less\n",
        "useful since we work with training data that is created on the fly.\n",
        "\n",
        "To learn the basics of PyTorch `DataLoader` and `transforms`, the following references are recommended:\n",
        "https://www.youtube.com/watch?v=PXOzkkB5eH0&list=PLqnslRFeH2UrcDBWF5mfPGpqQDSta6VK4&index=9\n",
        "https://www.youtube.com/watch?v=X_QOZEko5uE&list=PLqnslRFeH2UrcDBWF5mfPGpqQDSta6VK4&index=10\n",
        "\n",
        "It's also worth noting that if you're working on both PyTorch and TensorFlow projects simultaneously, you might prefer to organize\n",
        "datasets using interchangeable Python code (such as `NumPy` or `Pandas`). This allows for greater flexibility across both frameworks,\n",
        "as it avoids locking data loading into PyTorch's `DataLoader` or TensorFlow's `tf.data` pipeline. By keeping dataset handling\n",
        "framework-agnostic, you can easily adapt your code for use in both environments.\n",
        "\"\"\"\n",
        "#### Loading MNIST ends\n",
        "\n",
        "examples = iter(train_loader)\n",
        "samples, labels = next(examples)  # In Python 3.x, use the built-in next() function instead of examples.next()\n",
        "print(samples.shape, labels.shape)\n",
        "\"\"\"\n",
        "return torch.Size([100, 1, 28, 28]) torch.Size([100])\n",
        "\n",
        "torch.Size([100, 1, 28, 28]) -> 100 for the asked batch size, 1 for black and white channel (no color channel)\n",
        "the last two 28x28 are the pixel array.\n",
        "\n",
        "the torch.Size([100]) are the labels of data. Each data in the batch has a label (number 0 - 9),\n",
        "so here we have 100 return labels corresponding to the 100 data in the batch\n",
        "\n",
        "torch.Size([100, 1, 28, 28]):\n",
        "- The first dimension (100) represents the batch size, which we set to 100. (loaded with dataloader)\n",
        "- The second dimension (1) represents the number of channels. Since these are black-and-white images, we only have 1 channel (no color channels like RGB).\n",
        "- The last two dimensions (28x28) represent the height and width of the image in pixels, corresponding to the 28x28 pixel array.\n",
        "\n",
        "torch.Size([100]):\n",
        "- This represents the labels of the data. Since each data sample in the batch has one label (a digit from 0 to 9), we have 100 labels corresponding to the 100 images in the batch.\n",
        "\"\"\"\n"
      ]
    },
    {
      "cell_type": "code",
      "source": [
        "# Let's take a look at the first 6 images in our samples\n",
        "for i in range(6):\n",
        "    plt.subplot(2, 3, i+1)\n",
        "    plt.imshow(samples[i][0], cmap='gray')\n",
        "    # The [0] is to access the color channel (black and white) for the (28, 28) image\n",
        "plt.show()"
      ],
      "metadata": {
        "colab": {
          "base_uri": "https://localhost:8080/",
          "height": 580
        },
        "id": "Npwxr7qtGzG4",
        "outputId": "9bac741f-b703-4543-8d58-27eade9fb07c"
      },
      "execution_count": null,
      "outputs": [
        {
          "output_type": "execute_result",
          "data": {
            "text/plain": [
              "<function matplotlib.pyplot.show(close=None, block=None)>"
            ],
            "text/html": [
              "<div style=\"max-width:800px; border: 1px solid var(--colab-border-color);\"><style>\n",
              "      pre.function-repr-contents {\n",
              "        overflow-x: auto;\n",
              "        padding: 8px 12px;\n",
              "        max-height: 500px;\n",
              "      }\n",
              "\n",
              "      pre.function-repr-contents.function-repr-contents-collapsed {\n",
              "        cursor: pointer;\n",
              "        max-height: 100px;\n",
              "      }\n",
              "    </style>\n",
              "    <pre style=\"white-space: initial; background:\n",
              "         var(--colab-secondary-surface-color); padding: 8px 12px;\n",
              "         border-bottom: 1px solid var(--colab-border-color);\"><b>matplotlib.pyplot.show</b><br/>def show(*args, **kwargs)</pre><pre class=\"function-repr-contents function-repr-contents-collapsed\" style=\"\"><a class=\"filepath\" style=\"display:none\" href=\"#\">/usr/local/lib/python3.10/dist-packages/matplotlib/pyplot.py</a>Display all open figures.\n",
              "\n",
              "Parameters\n",
              "----------\n",
              "block : bool, optional\n",
              "    Whether to wait for all figures to be closed before returning.\n",
              "\n",
              "    If `True` block and run the GUI main loop until all figure windows\n",
              "    are closed.\n",
              "\n",
              "    If `False` ensure that all figure windows are displayed and return\n",
              "    immediately.  In this case, you are responsible for ensuring\n",
              "    that the event loop is running to have responsive figures.\n",
              "\n",
              "    Defaults to True in non-interactive mode and to False in interactive\n",
              "    mode (see `.pyplot.isinteractive`).\n",
              "\n",
              "See Also\n",
              "--------\n",
              "ion : Enable interactive mode, which shows / updates the figure after\n",
              "      every plotting command, so that calling ``show()`` is not necessary.\n",
              "ioff : Disable interactive mode.\n",
              "savefig : Save the figure to an image file instead of showing it on screen.\n",
              "\n",
              "Notes\n",
              "-----\n",
              "**Saving figures to file and showing a window at the same time**\n",
              "\n",
              "If you want an image file as well as a user interface window, use\n",
              "`.pyplot.savefig` before `.pyplot.show`. At the end of (a blocking)\n",
              "``show()`` the figure is closed and thus unregistered from pyplot. Calling\n",
              "`.pyplot.savefig` afterwards would save a new and thus empty figure. This\n",
              "limitation of command order does not apply if the show is non-blocking or\n",
              "if you keep a reference to the figure and use `.Figure.savefig`.\n",
              "\n",
              "**Auto-show in jupyter notebooks**\n",
              "\n",
              "The jupyter backends (activated via ``%matplotlib inline``,\n",
              "``%matplotlib notebook``, or ``%matplotlib widget``), call ``show()`` at\n",
              "the end of every cell by default. Thus, you usually don&#x27;t have to call it\n",
              "explicitly there.</pre>\n",
              "      <script>\n",
              "      if (google.colab.kernel.accessAllowed && google.colab.files && google.colab.files.view) {\n",
              "        for (const element of document.querySelectorAll('.filepath')) {\n",
              "          element.style.display = 'block'\n",
              "          element.onclick = (event) => {\n",
              "            event.preventDefault();\n",
              "            event.stopPropagation();\n",
              "            google.colab.files.view(element.textContent, 401);\n",
              "          };\n",
              "        }\n",
              "      }\n",
              "      for (const element of document.querySelectorAll('.function-repr-contents')) {\n",
              "        element.onclick = (event) => {\n",
              "          event.preventDefault();\n",
              "          event.stopPropagation();\n",
              "          element.classList.toggle('function-repr-contents-collapsed');\n",
              "        };\n",
              "      }\n",
              "      </script>\n",
              "      </div>"
            ]
          },
          "metadata": {},
          "execution_count": 14
        },
        {
          "output_type": "display_data",
          "data": {
            "text/plain": [
              "<Figure size 640x480 with 6 Axes>"
            ],
            "image/png": "[encoded data removed]"
          },
          "metadata": {}
        }
      ]
    },
    {
      "cell_type": "code",
      "source": [
        "# Define our Neural Network\n",
        "class NeuralNet(nn.Module):\n",
        "    def __init__(self, input_size, hidden_size, num_classes):\n",
        "        super(NeuralNet, self).__init__()\n",
        "        self.l1 = nn.Linear(input_size, hidden_size)\n",
        "        self.activationF = nn.ReLU() # different from tutorial5, here we try to apply the activation function as a module\n",
        "        self.l2 = nn.Linear(hidden_size, num_classes)\n",
        "\n",
        "    def forward(self, x):\n",
        "        x = self.l1(x)\n",
        "        x = self.activationF(x)\n",
        "        output = self.l2(x)\n",
        "        return output\n",
        "\n",
        "# Instantiate our Neural Network\n",
        "model = NeuralNet(input_size, hidden_size, num_classes)\n",
        "\n",
        "# Loss and optimizer\n",
        "criterion = nn.CrossEntropyLoss()  # Cross-entropy loss for classification\n",
        "\"\"\"\n",
        "The loss function, also known as the criterion, again, is a measure of how well the model's predictions match the target labels.\n",
        "In the previous tutorial, we defined the loss function (Mean Squared Error) manually.\n",
        "However, PyTorch provides built-in loss functions, such as:\n",
        "- `nn.MSELoss()` for regression problems.\n",
        "- `nn.CrossEntropyLoss()` for classification problems, which we are using here.\n",
        "\n",
        "**CrossEntropyLoss** is commonly used for classification tasks where the model outputs probabilities over multiple classes.\n",
        "It compares the predicted class probabilities with the true class labels and penalizes incorrect predictions.\n",
        "\n",
        "In our case, since we are classifying digits (0-9), CrossEntropyLoss is well-suited because it handles multi-class classification efficiently.\n",
        "\n",
        "To learn more about loss functions (e.g. Softmax and Cross-Entropy) used in classification problems, please check:\n",
        "https://www.youtube.com/watch?v=7q7E91pHoW4&list=PLqnslRFeH2UrcDBWF5mfPGpqQDSta6VK4&index=11\n",
        "\n",
        "To explore different built-in PyTorch loss functions, visit the documentation:\n",
        "https://pytorch.org/docs/stable/nn.html#loss-functions\n",
        "\"\"\"\n",
        "optimizer = torch.optim.Adam(model.parameters(), lr=learning_rate)  # Adam optimizer\n",
        "# Adam: https://pytorch.org/docs/stable/generated/torch.optim.Adam.html\n",
        "\n",
        "\n",
        "# Main training loop\n",
        "n_total_steps = len(train_loader)\n",
        "for epoch in range(num_epochs):\n",
        "    for i, (images, labels) in enumerate(train_loader):\n",
        "        # Flatten the 28x28 images into a vector of 784 pixels\n",
        "        # [100, 1, 28, 28] -> [100, 784]\n",
        "        # Send the flattened images and labels to the chosen device (GPU if available)\n",
        "        images = images.reshape(-1, 28*28).to(device)\n",
        "        labels = labels.to(device) # remember to send the labels to device too! (they are part of the backward pass)\n",
        "        # The \"-1\" in reshape automatically calculates the batch size (here should be 100) based on the input dimension\n",
        "\n",
        "        # Forward pass\n",
        "        outputs = model(images)\n",
        "        loss = criterion(outputs, labels)\n",
        "\n",
        "        # Backward pass and optimization\n",
        "        optimizer.zero_grad()\n",
        "        loss.backward()\n",
        "        optimizer.step()\n",
        "\n",
        "        # Print training info every 100 steps\n",
        "        if (i+1) % 100 == 0:\n",
        "            print(f'Epoch [{epoch+1}/{num_epochs}], Step [{i+1}/{n_total_steps}], Loss: {loss.item():.4f}')\n",
        "\n",
        "# testing and evaluation our result\n",
        "with torch.no_grad(): # not for training, no need of computational graph\n",
        "    n_correct = 0\n",
        "    n_samples = 0\n",
        "    for images, labels in test_loader:\n",
        "        images = images.reshape(-1, 28*28).to(device)\n",
        "        labels = labels.to(device)\n",
        "        outputs = model(images)\n",
        "\n",
        "        # Get the predicted class (index of the highest value in the output tensor)\n",
        "        _, predictions = torch.max(outputs, 1)\n",
        "        # torch.max() returns (max value, index of max value). We use the index to get the predicted class.\n",
        "\n",
        "\n",
        "        n_samples += labels.shape[0] # return the number of samples in the current batch (100)\n",
        "        n_correct += (predictions == labels).sum().item()\n",
        "        # if predictions == labels, it will return True, which is also a value \"1\".\n",
        "\n",
        "    # Calculate accuracy as a percentage\n",
        "    acc = 100.0 * n_correct / n_samples\n",
        "    print(f'accuracy = {acc}')\n"
      ],
      "metadata": {
        "colab": {
          "base_uri": "https://localhost:8080/"
        },
        "id": "a1vO-owfJt4a",
        "outputId": "d0a89a26-34c1-43dd-d460-a5d2adf7d3fe"
      },
      "execution_count": null,
      "outputs": [
        {
          "output_type": "stream",
          "name": "stdout",
          "text": [
            "epoch 1 / 2, step 100/600, loss 0.4461\n",
            "epoch 1 / 2, step 200/600, loss 0.3122\n",
            "epoch 1 / 2, step 300/600, loss 0.4404\n",
            "epoch 1 / 2, step 400/600, loss 0.2136\n",
            "epoch 1 / 2, step 500/600, loss 0.3662\n",
            "epoch 1 / 2, step 600/600, loss 0.1354\n",
            "epoch 2 / 2, step 100/600, loss 0.1791\n",
            "epoch 2 / 2, step 200/600, loss 0.2808\n",
            "epoch 2 / 2, step 300/600, loss 0.1647\n",
            "epoch 2 / 2, step 400/600, loss 0.1218\n",
            "epoch 2 / 2, step 500/600, loss 0.2144\n",
            "epoch 2 / 2, step 600/600, loss 0.1981\n",
            "accuracy = 95.52\n"
          ]
        }
      ]
    },
    {
      "cell_type": "markdown",
      "source": [
        "#About flattening the data:\n",
        "\n",
        "In PyTorch, both `reshape()` and `view()` are used to change the shape of a tensor, but they differ in how they operate and the conditions in which they can be used:\n",
        "\n",
        "1. `view()`\n",
        "\n",
        "\t•\tOperation: `view()` returns a new tensor with the same data but a different shape. However, it requires that the tensor be contiguous in memory. If the tensor is not contiguous, you may encounter an error.\n",
        "    \n",
        "\t•\tContiguous Memory: PyTorch stores tensors in memory as contiguous blocks, but certain operations (like slicing or transposing) can cause the data to be stored in a non-contiguous manner. `view()` can only be used on tensors that are contiguous in memory. You can use `.contiguous()` to ensure a tensor is contiguous before using `view()`.\n",
        "\n",
        "When to Use `view()`:\n",
        "\n",
        "\t•\tWhen you want to change the shape of a tensor, and you are sure or can make the tensor contiguous.\n",
        "\t•\tUseful for reshaping without creating a new copy of the tensor if the underlying data layout allows it.\n",
        "\n",
        "2. `reshape()`\n",
        "\n",
        "\t•\tOperation: `reshape()` also returns a tensor with a different shape, but it does not require the tensor to be contiguous. If the tensor is not contiguous, `reshape()` will internally make a copy of the data if needed. This provides more flexibility but might be slightly less efficient since it can involve copying data.\n",
        "\n",
        "\t•\tMemory Safety: `reshape()` is generally more flexible since it will handle both contiguous and non-contiguous tensors.\n",
        "\n",
        "When to Use `reshape()`:\n",
        "\n",
        "\t•\tWhen you need to reshape a tensor and don’t want to worry about whether the tensor is contiguous or not.\n",
        "\t•\tWhen you prefer flexibility and don’t mind the potential overhead of creating a new tensor."
      ],
      "metadata": {
        "id": "E0w4NVKwTha7"
      }
    },
    {
      "cell_type": "markdown",
      "source": [
        "In this tutorial, we successfully built a simple neural network to classify images from the MNIST dataset. While this fully connected network performs well on simple tasks like digit classification, more complex image processing tasks often require more sophisticated architectures.\n",
        "\n",
        "For most advanced computer vision tasks, such as object detection, image segmentation, or more challenging classification tasks, **Convolutional Neural Networks (CNNs)** are essential for improving performance. CNNs are specifically designed to capture spatial hierarchies in images, which makes them much more effective for image-related tasks.\n",
        "\n",
        "If you're interested in learning more about CNNs and their application in deep learning, I recommend checking out this YouTube video: https://www.youtube.com/watch?v=pDdP0TFzsoQ&list=PLqnslRFeH2UrcDBWF5mfPGpqQDSta6VK4&index=14\n"
      ],
      "metadata": {
        "id": "U8bBufLvXbKW"
      }
    },
    {
      "cell_type": "code",
      "source": [],
      "metadata": {
        "id": "uKrkXTBkKi1c"
      },
      "execution_count": null,
      "outputs": []
    }
  ]
}
